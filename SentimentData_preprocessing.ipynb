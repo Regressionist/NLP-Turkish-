{
 "cells": [
  {
   "cell_type": "code",
   "execution_count": 1,
   "metadata": {},
   "outputs": [],
   "source": [
    "import pandas as pd\n",
    "from sklearn.model_selection import train_test_split"
   ]
  },
  {
   "cell_type": "code",
   "execution_count": 2,
   "metadata": {},
   "outputs": [],
   "source": [
    "sentiment_df=pd.read_csv('data/Sentiments/HUMIRSentimentDatasets.csv',error_bad_lines=False,header=None,sep=';')\n",
    "train_df,test_df= train_test_split(sentiment_df, test_size=0.25, random_state=0)\n",
    "validation_df,test_df= train_test_split(test_df, test_size=0.5, random_state=0)"
   ]
  },
  {
   "cell_type": "code",
   "execution_count": 3,
   "metadata": {},
   "outputs": [],
   "source": [
    "sentiment_content=sentiment_df[2]"
   ]
  },
  {
   "cell_type": "code",
   "execution_count": 4,
   "metadata": {},
   "outputs": [],
   "source": [
    "train_df.to_csv('data/Sentiments/training.csv',index=False)\n",
    "validation_df.to_csv('data/Sentiments/validation.csv',index=False)\n",
    "test_df.to_csv('data/Sentiments/test.csv',index=False)\n",
    "sentiment_content.to_csv('data/Sentiments/content.csv',index=False)"
   ]
  },
  {
   "cell_type": "code",
   "execution_count": null,
   "metadata": {},
   "outputs": [],
   "source": []
  }
 ],
 "metadata": {
  "kernelspec": {
   "display_name": "Python 3",
   "language": "python",
   "name": "python3"
  },
  "language_info": {
   "codemirror_mode": {
    "name": "ipython",
    "version": 3
   },
   "file_extension": ".py",
   "mimetype": "text/x-python",
   "name": "python",
   "nbconvert_exporter": "python",
   "pygments_lexer": "ipython3",
   "version": "3.6.6"
  }
 },
 "nbformat": 4,
 "nbformat_minor": 2
}
