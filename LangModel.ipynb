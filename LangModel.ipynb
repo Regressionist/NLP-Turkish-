{
 "cells": [
  {
   "cell_type": "code",
   "execution_count": 1,
   "metadata": {},
   "outputs": [],
   "source": [
    "import numpy as np\n",
    "import pandas as pd\n",
    "import matplotlib.pyplot as plt\n",
    "import torch\n",
    "from torch import nn\n",
    "from torch.autograd import Variable\n",
    "from torch import optim\n",
    "import torch.nn.functional as F\n",
    "\n",
    "from collections import Counter, defaultdict\n",
    "import sentencepiece as spm"
   ]
  },
  {
   "cell_type": "code",
   "execution_count": 2,
   "metadata": {},
   "outputs": [],
   "source": [
    "device = torch.device(\"cuda\" if torch.cuda.is_available() else \"cpu\")"
   ]
  },
  {
   "cell_type": "code",
   "execution_count": 3,
   "metadata": {},
   "outputs": [],
   "source": [
    "class Corpus(object):\n",
    "    def __init__(self,path='data/Sentiments/content.csv',train_sentencepiece=False,batch_size=64, val_size=10):\n",
    "        self.path=path\n",
    "        self.batch_size = batch_size\n",
    "        self.val_size = val_size\n",
    "        self.total_batch_size = batch_size+val_size\n",
    "        self.minibatch_index = 0\n",
    "        self.sp = spm.SentencePieceProcessor()\n",
    "        if(train_sentencepiece): \n",
    "            spm.SentencePieceTrainer.Train(f'--input={self.path} --model_prefix=m --vocab_size=1250')\n",
    "        self.sp.Load(\"m.model\")\n",
    "        \n",
    "    def prep_data(self):\n",
    "        subword_counter = Counter()\n",
    "        num_of_tokens = 0\n",
    "        with open(self.path,'r') as f:\n",
    "            for line in f:\n",
    "                line_subword = self.sp.EncodeAsPieces(line)\n",
    "                subword_counter.update(self.sp.EncodeAsPieces(line))\n",
    "                num_of_tokens += len(line_subword)+1\n",
    "\n",
    "        self.subwords_itos = ['_unk_','_pad_','_eos_','_bos_'] + sorted(subword_counter,key=subword_counter.get,reverse=True)\n",
    "        self.subwords_stoi = defaultdict(lambda:0,{k:i for i,k in enumerate(self.subwords_itos)})\n",
    "\n",
    "        ids = torch.LongTensor(num_of_tokens)\n",
    "        token = 0\n",
    "        with open(self.path,'r') as f:\n",
    "            for line in f:\n",
    "                line_subword = self.sp.EncodeAsPieces(line) + ['_eos_']\n",
    "                np_arr = np.array([self.subwords_stoi[s] for s in line_subword],np.int32)\n",
    "                ids[token:token+len(line_subword)] = torch.from_numpy(np_arr)\n",
    "                token += len(line_subword)\n",
    "\n",
    "        num_batches = ids.size(0) // (self.total_batch_size)\n",
    "        ids = ids[:num_batches*self.total_batch_size]\n",
    "        self.full_data = ids.view(self.total_batch_size, -1)\n",
    "        \n",
    "    def get_minibatch(self,bptt=120):\n",
    "        if (self.minibatch_index + bptt+1 > self.full_data.size(1)):\n",
    "            self.minibatch_index=0\n",
    "        self.last_mbatch_x = self.full_data[:self.batch_size,self.minibatch_index:self.minibatch_index+bptt]\n",
    "        self.last_mbatch_y = self.full_data[:self.batch_size,1+self.minibatch_index:1+self.minibatch_index+bptt]\n",
    "        self.last_mbatch_x_val = self.full_data[self.batch_size:,self.minibatch_index:self.minibatch_index+bptt]\n",
    "        self.last_mbatch_y_val = self.full_data[self.batch_size:,1+self.minibatch_index:1+self.minibatch_index+bptt]\n",
    "        self.minibatch_index+=bptt\n",
    "        return(self.last_mbatch_x,self.last_mbatch_y,self.last_mbatch_x_val,self.last_mbatch_y_val)\n"
   ]
  },
  {
   "cell_type": "code",
   "execution_count": 4,
   "metadata": {},
   "outputs": [],
   "source": [
    "corpus=Corpus()\n",
    "corpus.prep_data()"
   ]
  },
  {
   "cell_type": "code",
   "execution_count": 5,
   "metadata": {},
   "outputs": [],
   "source": [
    "class LangModel(nn.Module):\n",
    "    def __init__(self, input_size, embedding_size, hidden_size, dp_prob):\n",
    "        super(LangModel,self).__init__()\n",
    "    \n",
    "        self.input_size=input_size\n",
    "        self.embedding_size=embedding_size\n",
    "        self.hidden_size=hidden_size\n",
    "        self.dropout_prob=dp_prob\n",
    "    \n",
    "        self.dropout = nn.Dropout(dp_prob)\n",
    "        self.emb_layer=nn.Embedding(input_size, embedding_size)\n",
    "        self.rnn=nn.GRU(embedding_size, hidden_size, bidirectional=True)\n",
    "        self.Linear=nn.Linear(2*hidden_size, input_size)\n",
    "    \n",
    "    def forward(self, input_sentence, init_hidden_state):\n",
    "        #input_sentence: seq_len*batch_size\n",
    "    \n",
    "        emb=self.dropout(self.emb_layer(input_sentence))\n",
    "        #emb: seq_len*batch_size*emb_size\n",
    "    \n",
    "        output, hidden=self.rnn(emb, init_hidden_state)\n",
    "        #hidden: num_layers * num_directions, batch, hidden_size\n",
    "    \n",
    "        output=self.Linear(output.view(-1,2*hidden_size))\n",
    "        \n",
    "        return output"
   ]
  },
  {
   "cell_type": "code",
   "execution_count": 21,
   "metadata": {},
   "outputs": [],
   "source": [
    "def train_minibatch(inputs, targets, hidden_size, mini_batch_size, model, model_optimizer, criterion, device=device):\n",
    "    model_optimizer.zero_grad()\n",
    "    hidden_state=(torch.zeros(2, mini_batch_size, hidden_size, device=device)).detach()\n",
    "    outputs = model(inputs, hidden_state)\n",
    "    #print (outputs.size(),targets.size())\n",
    "    loss = criterion(outputs, targets.reshape(-1))\n",
    "    loss.backward()\n",
    "    model_optimizer.step()\n",
    "    return loss.item()\n"
   ]
  },
  {
   "cell_type": "code",
   "execution_count": 22,
   "metadata": {},
   "outputs": [],
   "source": [
    "def validate(inputs, targets, hidden_size, validation_size,criterion, device=device):\n",
    "    with torch.no_grad():\n",
    "        hidden_state=(torch.zeros(2, validation_size, hidden_size, device=device)).detach()\n",
    "        outputs = model(inputs, hidden_state)\n",
    "        val_loss = criterion(outputs, targets.reshape(-1))\n",
    "        return val_loss"
   ]
  },
  {
   "cell_type": "code",
   "execution_count": 23,
   "metadata": {},
   "outputs": [],
   "source": [
    "model=LangModel(input_size=1376, embedding_size=300, hidden_size=512, dp_prob=0.2)\n",
    "device = torch.device(\"cuda\" if torch.cuda.is_available() else \"cpu\")\n",
    "model=model.to(device)\n",
    "model_optimizer=optim.Adam(model.parameters())\n",
    "criterion=nn.CrossEntropyLoss()"
   ]
  },
  {
   "cell_type": "code",
   "execution_count": 24,
   "metadata": {},
   "outputs": [],
   "source": [
    "hidden_size=512\n",
    "mini_batch_size=64\n",
    "val_size=10\n",
    "tl=[]\n",
    "vl=[]"
   ]
  },
  {
   "cell_type": "code",
   "execution_count": 25,
   "metadata": {},
   "outputs": [
    {
     "name": "stdout",
     "output_type": "stream",
     "text": [
      "Step: 1.0/100 | Training Loss: 274.2057755291462 | Validation Loss: 266.572021484375\n",
      "%---Saving the model---%\n",
      "Step: 2.0/100 | Training Loss: 12.023654393851757 | Validation Loss: 12.301753997802734\n",
      "%---Saving the model---%\n",
      "Step: 3.0/100 | Training Loss: 6.445833556354046 | Validation Loss: 6.441248416900635\n",
      "%---Saving the model---%\n",
      "Step: 4.0/100 | Training Loss: 5.551934204995632 | Validation Loss: 5.563888072967529\n",
      "%---Saving the model---%\n",
      "Step: 5.0/100 | Training Loss: 5.2104016952216625 | Validation Loss: 5.036572456359863\n",
      "%---Saving the model---%\n",
      "Step: 6.0/100 | Training Loss: 4.9375943168997765 | Validation Loss: 4.884289741516113\n",
      "%---Saving the model---%\n",
      "Step: 7.0/100 | Training Loss: 4.737070959061384 | Validation Loss: 4.797152519226074\n",
      "%---Saving the model---%\n",
      "Step: 8.0/100 | Training Loss: 4.680915292352438 | Validation Loss: 4.60063362121582\n",
      "%---Saving the model---%\n",
      "Step: 9.0/100 | Training Loss: 4.544412553310394 | Validation Loss: 4.633220195770264\n",
      "Step: 10.0/100 | Training Loss: 4.455374158918858 | Validation Loss: 4.602097511291504\n",
      "Step: 11.0/100 | Training Loss: 4.376264031976461 | Validation Loss: 4.571568012237549\n",
      "%---Saving the model---%\n",
      "Step: 12.0/100 | Training Loss: 4.343686368316412 | Validation Loss: 4.416112899780273\n",
      "%---Saving the model---%\n",
      "Step: 13.0/100 | Training Loss: 4.285904087126255 | Validation Loss: 4.5524678230285645\n",
      "Step: 14.0/100 | Training Loss: 4.200812764465809 | Validation Loss: 4.431614398956299\n",
      "Step: 15.0/100 | Training Loss: 4.173578888177872 | Validation Loss: 4.369155406951904\n",
      "%---Saving the model---%\n",
      "Step: 16.0/100 | Training Loss: 4.104052502661943 | Validation Loss: 4.408670902252197\n",
      "Step: 17.0/100 | Training Loss: 4.045367646962404 | Validation Loss: 4.526952743530273\n",
      "Step: 18.0/100 | Training Loss: 4.007080540060997 | Validation Loss: 4.456813335418701\n",
      "Step: 19.0/100 | Training Loss: 3.9668851271271706 | Validation Loss: 4.369680404663086\n",
      "Step: 20.0/100 | Training Loss: 3.885882370173931 | Validation Loss: 4.463721752166748\n",
      "Step: 21.0/100 | Training Loss: 3.852623350918293 | Validation Loss: 4.384969711303711\n",
      "Step: 22.0/100 | Training Loss: 3.8120142854750156 | Validation Loss: 4.320800304412842\n",
      "%---Saving the model---%\n",
      "Step: 23.0/100 | Training Loss: 3.7432798594236374 | Validation Loss: 4.3726067543029785\n",
      "Step: 24.0/100 | Training Loss: 3.696628049015999 | Validation Loss: 4.579098701477051\n",
      "Step: 25.0/100 | Training Loss: 3.67063856869936 | Validation Loss: 4.427908420562744\n"
     ]
    }
   ],
   "source": [
    "batch_training_loss=0\n",
    "batch_validation_loss=0\n",
    "val_loss_benchmark=1000\n",
    "for i in range(2500):\n",
    "    train_input, train_target, val_input, val_target=corpus.get_minibatch()\n",
    "    train_input=Variable(train_input.cuda()).permute(1,0)\n",
    "    train_target=Variable(train_target.cuda()).permute(1,0)\n",
    "    val_input=Variable(val_input.cuda()).permute(1,0)\n",
    "    val_target=Variable(val_target.cuda()).permute(1,0)\n",
    "    train_loss=train_minibatch(train_input, train_target, hidden_size, mini_batch_size, model, model_optimizer, criterion)\n",
    "    val_loss=validate(val_input, val_target, hidden_size, val_size,criterion)\n",
    "    batch_training_loss+=train_loss\n",
    "    batch_validation_loss+=val_loss\n",
    "    if (i+1)%100==0:\n",
    "        tl.append(batch_training_loss)\n",
    "        vl.append(batch_validation_loss)\n",
    "        print ('Step: {}/{} | Training Loss: {} | Validation Loss: {}'.format((i+1)/100, 100, batch_training_loss, batch_validation_loss))\n",
    "        if (batch_validation_loss<=val_loss_benchmark):\n",
    "            print ('%---Saving the model---%')\n",
    "            torch.save({\n",
    "                'model_state_dict': model.state_dict(),\n",
    "                'model_optimizer_state_dict': model_optimizer.state_dict(),\n",
    "                },'models/LangModel_{}.pth'.format(int((i+1)/100)))\n",
    "            val_loss_benchmark=batch_validation_loss\n",
    "        batch_training_loss=0\n",
    "        batch_validation_loss=0\n",
    "    "
   ]
  },
  {
   "cell_type": "code",
   "execution_count": 29,
   "metadata": {},
   "outputs": [
    {
     "data": {
      "text/plain": [
       "LangModel(\n",
       "  (dropout): Dropout(p=0.2)\n",
       "  (emb_layer): Embedding(1376, 300)\n",
       "  (rnn): GRU(300, 512, bidirectional=True)\n",
       "  (Linear): Linear(in_features=1024, out_features=1376, bias=True)\n",
       ")"
      ]
     },
     "execution_count": 29,
     "metadata": {},
     "output_type": "execute_result"
    }
   ],
   "source": [
    "checkpoint = torch.load('models/LangModel_22.pth')\n",
    "model.load_state_dict(checkpoint['model_state_dict'])\n",
    "model_optimizer.load_state_dict(checkpoint['model_optimizer_state_dict'])\n",
    "model.eval()"
   ]
  },
  {
   "cell_type": "code",
   "execution_count": 12,
   "metadata": {},
   "outputs": [
    {
     "data": {
      "image/png": "[encoded data removed]",
      "text/plain": [
       "<Figure size 432x288 with 1 Axes>"
      ]
     },
     "metadata": {
      "needs_background": "light"
     },
     "output_type": "display_data"
    }
   ],
   "source": [
    "plt.plot(range(len(vl[1:])),vl[1:])\n",
    "plt.show()"
   ]
  },
  {
   "cell_type": "code",
   "execution_count": 40,
   "metadata": {},
   "outputs": [],
   "source": [
    "temp_begin = corpus.sp.EncodeAsPieces(\"Daha once bu yonet\")\n",
    "temp=torch.from_numpy(np.array([corpus.subwords_stoi[k] for k in temp_begin],np.int64))\n",
    "temp=temp.unsqueeze(1)\n",
    "temp=temp.type(torch.cuda.LongTensor)\n",
    "temp.size()\n",
    "newOutput=[0]\n",
    "while int(newOutput[0]) != 2:\n",
    "    with torch.no_grad():\n",
    "        hidden_state=torch.zeros(2, 1, hidden_size, device=device)\n",
    "        outputs = model(temp, hidden_state)\n",
    "        newOutput = F.softmax(outputs,dim=1)\n",
    "        #newOutput=newOutput.max(1)[1][-1]\n",
    "        newOutput =torch.multinomial(newOutput[-1],1)[0]\n",
    "        newOutput=newOutput.view(1)\n",
    "        temp=torch.cat((temp, newOutput.unsqueeze(1)),dim=0)"
   ]
  },
  {
   "cell_type": "code",
   "execution_count": 33,
   "metadata": {},
   "outputs": [],
   "source": [
    "a=[]\n",
    "for i in range(1000):   \n",
    "    temp_begin = corpus.sp.EncodeAsPieces(\"Daha once bu yonet\")\n",
    "    temp=torch.from_numpy(np.array([corpus.subwords_stoi[k] for k in temp_begin],np.int64))\n",
    "    temp=temp.unsqueeze(1)\n",
    "    temp=temp.type(torch.cuda.LongTensor)\n",
    "    temp.size()\n",
    "    newOutput=[0]\n",
    "\n",
    "    with torch.no_grad():\n",
    "        hidden_state=torch.zeros(2, 1, hidden_size, device=device)\n",
    "        outputs = model(temp, hidden_state)\n",
    "    a.append(corpus.subwords_itos[int(outputs.max(1)[1][-1])])\n"
   ]
  },
  {
   "cell_type": "code",
   "execution_count": 149,
   "metadata": {},
   "outputs": [
    {
     "data": {
      "text/plain": [
       "'▁'"
      ]
     },
     "execution_count": 149,
     "metadata": {},
     "output_type": "execute_result"
    }
   ],
   "source": [
    "corpus.subwords_itos[int(outputs.max(1)[1][-1])]"
   ]
  },
  {
   "cell_type": "code",
   "execution_count": 41,
   "metadata": {},
   "outputs": [
    {
     "data": {
      "text/plain": [
       "['▁D',\n",
       " 'a',\n",
       " 'ha',\n",
       " '▁o',\n",
       " 'n',\n",
       " 'ce',\n",
       " '▁bu',\n",
       " '▁',\n",
       " 'yo',\n",
       " 'ne',\n",
       " 't',\n",
       " 'ri',\n",
       " 'k',\n",
       " 'ın',\n",
       " 'de',\n",
       " '▁pişman',\n",
       " 'ım',\n",
       " '▁',\n",
       " 'çe',\n",
       " 'y',\n",
       " 'ebil',\n",
       " 'ebil',\n",
       " 'eceğim',\n",
       " '▁kat',\n",
       " 'ıl',\n",
       " 'madan',\n",
       " 'dım',\n",
       " '.',\n",
       " '▁tamamen',\n",
       " '▁sürü',\n",
       " ';',\n",
       " 'j',\n",
       " 'lı',\n",
       " 'm',\n",
       " '.',\n",
       " 'ama',\n",
       " '▁si',\n",
       " 'k',\n",
       " '▁De',\n",
       " '▁De',\n",
       " 'n',\n",
       " '▁yapıl',\n",
       " 'sın',\n",
       " 'ı',\n",
       " '▁di',\n",
       " 'ken',\n",
       " '▁yemeği',\n",
       " '▁olarak',\n",
       " '▁yarat',\n",
       " '_eos_']"
      ]
     },
     "execution_count": 41,
     "metadata": {},
     "output_type": "execute_result"
    }
   ],
   "source": [
    "[corpus.subwords_itos[int(k)] for k in temp.detach().cpu().numpy()]"
   ]
  },
  {
   "cell_type": "code",
   "execution_count": 145,
   "metadata": {},
   "outputs": [
    {
     "ename": "AttributeError",
     "evalue": "'list' object has no attribute 'view'",
     "output_type": "error",
     "traceback": [
      "\u001b[0;31m---------------------------------------------------------------------------\u001b[0m",
      "\u001b[0;31mAttributeError\u001b[0m                            Traceback (most recent call last)",
      "\u001b[0;32m<ipython-input-145-e904395b3242>\u001b[0m in \u001b[0;36m<module>\u001b[0;34m\u001b[0m\n\u001b[0;32m----> 1\u001b[0;31m \u001b[0ma\u001b[0m\u001b[0;34m=\u001b[0m\u001b[0mnewOutput\u001b[0m\u001b[0;34m.\u001b[0m\u001b[0mview\u001b[0m\u001b[0;34m(\u001b[0m\u001b[0;36m1\u001b[0m\u001b[0;34m)\u001b[0m\u001b[0;34m\u001b[0m\u001b[0m\n\u001b[0m\u001b[1;32m      2\u001b[0m \u001b[0ma\u001b[0m\u001b[0;34m.\u001b[0m\u001b[0msize\u001b[0m\u001b[0;34m(\u001b[0m\u001b[0;34m)\u001b[0m\u001b[0;34m\u001b[0m\u001b[0m\n",
      "\u001b[0;31mAttributeError\u001b[0m: 'list' object has no attribute 'view'"
     ]
    }
   ],
   "source": [
    "a=newOutput.view(1)\n",
    "a.size()"
   ]
  },
  {
   "cell_type": "code",
   "execution_count": 97,
   "metadata": {},
   "outputs": [
    {
     "data": {
      "text/plain": [
       "tensor([551], device='cuda:0')"
      ]
     },
     "execution_count": 97,
     "metadata": {},
     "output_type": "execute_result"
    }
   ],
   "source": [
    "a"
   ]
  },
  {
   "cell_type": "code",
   "execution_count": 171,
   "metadata": {},
   "outputs": [
    {
     "data": {
      "text/plain": [
       "(tensor([[[0., 0., 0.,  ..., 0., 0., 0.],\n",
       "          [0., 0., 0.,  ..., 0., 0., 0.],\n",
       "          [0., 0., 0.,  ..., 0., 0., 0.],\n",
       "          ...,\n",
       "          [0., 0., 0.,  ..., 0., 0., 0.],\n",
       "          [0., 0., 0.,  ..., 0., 0., 0.],\n",
       "          [0., 0., 0.,  ..., 0., 0., 0.]]], device='cuda:0'),\n",
       " tensor([[[0., 0., 0.,  ..., 0., 0., 0.],\n",
       "          [0., 0., 0.,  ..., 0., 0., 0.],\n",
       "          [0., 0., 0.,  ..., 0., 0., 0.],\n",
       "          ...,\n",
       "          [0., 0., 0.,  ..., 0., 0., 0.],\n",
       "          [0., 0., 0.,  ..., 0., 0., 0.],\n",
       "          [0., 0., 0.,  ..., 0., 0., 0.]]], device='cuda:0'))"
      ]
     },
     "execution_count": 171,
     "metadata": {},
     "output_type": "execute_result"
    }
   ],
   "source": [
    "(torch.zeros(1, 64, hidden_size).to(device),\n",
    "              torch.zeros(1, 64, hidden_size).to(device))"
   ]
  },
  {
   "cell_type": "code",
   "execution_count": null,
   "metadata": {},
   "outputs": [],
   "source": []
  }
 ],
 "metadata": {
  "kernelspec": {
   "display_name": "Python 3",
   "language": "python",
   "name": "python3"
  },
  "language_info": {
   "codemirror_mode": {
    "name": "ipython",
    "version": 3
   },
   "file_extension": ".py",
   "mimetype": "text/x-python",
   "name": "python",
   "nbconvert_exporter": "python",
   "pygments_lexer": "ipython3",
   "version": "3.6.6"
  }
 },
 "nbformat": 4,
 "nbformat_minor": 2
}
