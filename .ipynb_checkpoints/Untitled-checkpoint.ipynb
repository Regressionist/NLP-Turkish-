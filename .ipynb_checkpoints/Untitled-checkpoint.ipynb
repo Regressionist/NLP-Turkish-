{
 "cells": [
  {
   "cell_type": "code",
   "execution_count": 8,
   "metadata": {},
   "outputs": [],
   "source": [
    "import json\n",
    "import ast\n",
    "count=0\n",
    "data=[]\n",
    "with open('tempwikiTR.txt', 'w') as txtfile:\n",
    "    with open('train_turkish/train-00000-of-00010.json') as f:\n",
    "        for line in f:\n",
    "            line=ast.literal_eval(line)\n",
    "            data.append(line['string_sequence'])\n",
    "            txtfile.write(' '.join(line['string_sequence']))\n",
    "            txtfile.write('\\n')\n",
    "            count=count+1\n",
    "            if (count==1000):\n",
    "                break\n",
    "        \n"
   ]
  },
  {
   "cell_type": "code",
   "execution_count": 9,
   "metadata": {},
   "outputs": [
    {
     "name": "stdout",
     "output_type": "stream",
     "text": [
      "Widzew Łódź , Lodz merkezli , Polonyalı profesyonel futbol kulübüdür. 1910 yılında kurulduğu semtin adı olan Widzew adıyla kurulmuştur . Ekstraklasa : Şampiyon ( 4 ) : 1981 , 1982 , 1996 , 1997 İkinci ( 7 ) : 1977 , 1979 , 1980 , 1983 , 1984 , 1995 , 1999 Polonya Birinci Ligi : Şampiyon ( 3 ) : 2006 , 2009 , 2010 Polonya Kupası : Şampiyon ( 1 ) : 1985 Polonya Süper Kupası : Şampiyon ( 1 ) : 1996 Finalist ( 1 ) : 1997 Polonya Lig Kupası : Finalist ( 1 ) : 1977 UEFA Şampiyonlar Ligi : Yarı Final ( 1 ) : 1983 UEFA Intertoto Kupası : Şampiyon ( 2 ) : 1976 , 1982 3 Ekim 2014 itibariyle\r\n",
      "Lucas Orbán ( d . 3 Şubat 1989 ) doğumlu , Arjantin vatandaşı futbolcu . La Liga takımlarından Valencia CF ' nun formasını giyen oyuncu , defans bölgesinde görev yapmaktadır .\r\n",
      "56 . Panzer Kolordusu ( LVI . Panzerkorps ) , II . Dünya Savaşı sırasında Alman Ordusu ' na bağlı bir panzer kolordusudur . General der Infanterie Erich von Manstein ( 27 Şubat 1941-12 Eylül 1941 ) General der Panzertruppe Ferdinand Schaal ( 13 Eylül 1941-28 Şubat 1942 ) General der Panzertruppe Ferdinand Schaal ( 1 Mart 1942-1 Ağustos 1943 ) General der Infanterie Friedrich Hoßbach ( 2 Ağustos 1943-10 Ağustos 1943 ) md st. Fb General der Infanterie Friedrich Hoßbach ( 11 Ağustos 1943-14 Kasım 1943 ) Generalleutnant Anton Grasser ( 15 Kasım 1943-9 Aralık 1943 ) mdFb General der Infanterie Friedrich Hoßbach ( 10 Aralık 1943-14 Haziran 1944 ) General der Infanterie Johannes Block ( 15 Haziran 1944-15 Temmuz 1944 ) md st. Fb General der Infanterie Johannes Block ( 15 Temmuz 1944-26 Ocak 1945 ) General der Kavallerie Rudolf Koch - Erpach ( 16 Şubat 1945-10 Nisan 1945 ) General der Artillerie Helmuth Weidling ( 11 Nisan 1945-8 Mayıs 1945 )\r\n",
      "David Michael `` Dave '' Mirra ( d. 4 Nisan 1974 , New york -- ö. 4 Şubat 2016 , Kuzey Carolina ) , ABD ' li otomobil ve bisiklet yarışçısı . Subaru Ralli Takımı Amerika üyesiydi . Kendisi Chittenango , New York ' da doğmuştur . Mirra X Oyunları klasmanında Bob Burnquist ile birlikte X Oyunları Münih etabında 2013 ' te madalya kazanmıştır . Mirra ralli yarışçısı olarak X Oyunları ' nda 1995-2008 arası yarıştı ve toplamda 24 madalya kazanmıştır . Kendisi BMX takımı içerisinde 1990 ' larda Haro Bikes Turnuvası arazi bisiklet yarışlarında yarışmıştır . Tv ' de arazi bisiklet sporu üzerine yapılan 2004 yapımı George Lopez ' de Mirra ' da bir bölümde yer almıştır . Mirra 2014 ' te ralli ve bisiklet alanında en iyi 50 kros yarışçısı klasmanına girmiştir . Yarışçı Dave Mirra intihar ederek 4 Şubat 2016 ' da Greenville , Kuzey Carolina ' da 41 yaşında yaşamına son vermiştir .\r\n",
      "Yumuktepe ( veya Yümüktepe ) , Mersin kent içinde bulunan ve arkeolojik açıdan büyük önemi olan bir höyük . Höyük 1936-1938 yılları arasında , sonradan Ankara ' da Arkeoloji enstitüsünü kurmuş olan İngiliz arkeolog John Garstang ( 1876-1956 ) tarafından ortaya çıkarılmıştır . İkinci Dünya savaşı sırasında kazı çalışmaları durduğu gibi , Liverpool Üniversitesinde bulunan bu kazıya ait kimi dokümanlar da üniversite arşivinin bombalanması sebebiyle tahrip olmuştur . Bununla birlikte gerek savaş sonrası John Garstang ' ın devam eden çalışmaları ve gerekse 1993 yılında İstanbul Üniversitesinden Veli Sevin ve Roma Üniversitesinden Isabella Caneva tarafından başlatılan yeni çalışmalar pek çok şeyi ortaya çıkarmıştır . İlk kazı çalışmaları sırasında kent dışında olan höyük daha sonra kentin genişlemesiyle kent merkezi içinde kalmıştır . ( Bugünkü Demirtaş mahallesi ) . Höyükte John Garstang 33 tabakalı yerleşim saptamıştır . Prehistoric Mersin adlı yapıtında Garstang taş ve sermikten ev aletlerinin ve üretim araçlı aletlerin listesini vermektedir . Yumuktepe ' de tarım yapılmış koyun , keçi domuz ve sığır beslenmiştir . MÖ 4500 ' de Neolitik döneme ( Cilalı Taş devri ) denk gelen tabakada ise Dünya tarihindeki kaleye benzeyen ilk yapı saptanmıştır . Maden devriyle birlikte maden de kullanılmaya başlanmıştır . Hatta bir görüşe göre , Dünya ' da ilk bakır izabe tesisleri Yumuktepe ' de kullanılmaya başlanmıştır . MÖ 3200 sonrasına ait arkeolojik kayıtlar yetersizdir . Hatta bir süreliğine yerleşim yerinin terk edildiğini ileri sürenler de vardır . Yumuktepe daha sonra Hitit imparatorluğuna bağlı Kizzuvatna devletinin sınırları içersinde kalmıştır . Kizuvvatna henüz Hitit egemenliği altına girmeden önce , MÖ 1440 yılında iki devlet arasında yapılan bir anlaşmada Pitura kentinden bahsedilmektedir . Pitura ' nın Yumuktepe olabileceği ileri sürülmüştür . Ne var ki , Pitura ' nın Mersin ' de değil , Orta Fırat vadisinde olduğunu öne sürenler de vardır . Bir başka görüşe göre , ise , Yumuktepe adı iyi bilinen , ama yeri tam saptanamamış olan Ura liman kentidir . Gerçi bugünkü Yümüktepe deniz kenarından 2,5 km kadar içerdedir . Ama Yumuktepe ' ye komşu Efrenk ( Müftü ) deresi alüvyon taşıdığından , birkaç bin yıl önce muhtemelen Yumuktepe deniz kenarındaydı . Ama bu görüş te kanıtlanamamıştır . Hitit imparatorluğu MÖ 1200 ' lü yıllarda Batı ' dan gelen ve Mısırlılar ' ın Deniz Halkları adını verdiği büyük bir göç dalgasıyla yıkıldı . Yumuktepe ' nin de gerek bu göç dalgasından ve gerekse daha sonraki yıllarda başlayan Asur saldırılarından büyük zarar gördüğü anlaşılıyor . Roma imparatorluğunun ilk zamanlarında Yumuktepe artık Zephyrium adlı bir limandı . Fakat Roma imparatoru Hadrian zamanında adı Hadrianapolis olarak değiştirildi . Ne var ki , deniz kıyı çizgisinin güneye kayması ve 10 km kadar güney batıdaki Solipolis ' in deniz ticaretini ele geçirmesi Yümüktepe ' nin gerilemesi sonucunu doğurdu . Yumuktepe daha sonraki dönemlerde liman olarak bütün önemini kaybetti . Ancak kalenin ortaçağa kadar kullanıldığı anlaşılmaktadır .\r\n",
      "Andrey Ribakov ( Beyaz Rusça : Андрэй Рыбакоў , 4 Mart 1982 , Mahilyov ) , Beyaz Rus halterci . Ribakov , Dominik Cumhuriyeti ' nin başkenti Santo Domingo ' da düzenlenen 2006 Dünya Halter Şampiyonası 85 kg erkekler kategorisinde toplamda 383 kg ve 2007 Dünya Halter Şampiyonası - Erkekler 85 kg koparmada 187 , silkmede 206 ve toplamda 393 kg kaldırarak altın madalya kazandı . Beyaz Rus halterci 2004 Yaz Olimpiyatları ' nda toplamda 380 kg ile gümüş madalya kazandı . Çin Halk Cumhuriyeti ' nde düzenlenen 2008 Yaz Olimpiyatları ' nda ise koparmada 185 , silkmede 209 ve toplamda 394 kg yapmasına rağmen kendisiyle aynı puanı alan Lu Yong ' un yarışma tartısında avantajlı olduğu için gümüş madalyayla yetinmek zorunda kaldı . Ribakov , 2006 Avrupa Halter Şampiyonası ' nda da yaptığı 392 kg ' lik derecesiyle altın madalyanın sahibi oldu .\r\n",
      "Vésztő Macaristan ' ın güneydoğu bölgesi Büyük Macaristan Ovası ' ndaki Békés eyaletinin bir kasabasıdır . Vésztő , 125.76 km²lik bir alana ve 2001 yılı verilerine göre 7.623 kişilik bir nüfusa sahiptir .\r\n",
      "Polistiren , monomer haldeki stirenden polimerizasyon ile üretilen bir polimerdir . Petrolden elde edilir . Plastik endüstrisinde daha çok PS kısaltması ile kullanılır . Oda sıcaklığında , polistiren katı halde bir termoplastiktir , fakat enjeksiyon veya ekstrüzyon yolu ile işlenirken yüksek sıcaklıklarda eriyik hale getirilir . Daha sonra soğutularak tekrar katılaşması sağlanır . Geri dönüşüm kodu 6 dır . Yoğunluğu 1,03 - 1,06 g / ml arasında değişir . Maksimum sıcaklık dayanımı 70 ° C dir . Rigit ve köpük olabilen , çok yönlü ve amaçlı kullanılan bir plastiktir . Oldukça sert , kırılgan ve parlaktır . Nispeten düşük erime noktasına sahip çok pahalı olmayan bir reçinedir . Polistiren hızlı yanar , kuvvetli gaz kokusu yayar , önemli miktarda kurum üretir . Asetonlu ortamda hızla kabarır . UV ışınlarına iyi direnç gösterir , iyi darbe ve gerilme direnci , düşük fiyat ve işleme kolaylığı vardır . Asit alkali ve tuzlara karşı da üstün bir direnç gösterir . Erime sıcaklığı 210-250 ° C ' dir . Özgül ısısı 1,34 kg / kg ° C ' dir . 1 kg plastiği eritmek için gerekli ısı 268 kj / kg ' dır . İzolasyon malzemesi olarak , ince cidarlı kaplarda , soğutma kulelerinde , boru köpük , kauçuk , çeşitli aletler , otomobil parçaları , paneller ve elektronik aletlerin plastik aksamlarında yaygın olarak kullanılır . Tek kullanımlık bardak , tabak , yoğurt kapları , ayran kaplarında sıklıkla kullanılır . Genetik ve moleküler biyolojinin en temel uygulamalarından biri olan hücre kültürlerinde kullanılan kapların yapısında bulunur .\r\n",
      "Fatma Gülüstü Kadın Efendi , ( d . 1831 , Abhazya - ö . Mayıs 1861 , İstanbul ) , son Osmanlı padişahı Mehmet Vahidettin ' in annesi ve Sultan Abdülmecit ' in eşlerinden biriydi . Abhaz asıllıydı ve son Abhaz Kral Hanedanı olan Çaçba - Şervaşidze ' lere mensuptu . Babası Prens Tahir Şervaşidze ' dir. 1854 yılında politik sebeplerden dolayı Sultan Abdülmecit ' in eşi oldu . İki çocuğu oldu . 30 Temmuz 1856 ' da Mediha Sultan ' ı ve 2 Şubat 1861 ' de Vahidettin ' i doğurdu . Yaptığı doğumdan üç ay sonra Mayıs ayında önce kendisi ve hemen akabinde dört hafta sonra Haziran ayında da eşi Sultan Abdülmecit vefat etti . Gülüstü Kadın Efendi Fatih Camii ' nin mihrap önünde bulunan Münire Sultan Türbesi ' ne defnedildi . Oğlu Vahidettin annesinin ölümünden çok sonra , 57 yaşındayken tahta çıktığı için Gülüstü Kadın Efendi hiçbir zaman gerçekten Valide Sultan olamadı. .\r\n",
      "Vladimir Şamanov ya da Vladimir Şamanof ( Rusça : Владимир Анатольевич Шаманов ) ( d . 1957 ) , Rus Silahlı Kuvvetleri ' nde Korgeneral rütbesi ile bulunan üst rütbeli askerdir . Rusya Federayonu ' nun Ulyanovsk Oblast bölgesinde Rus birliklerine komutanlık yapmaktadır . Şimdi ise 2008 Güney Osetya Savaşı ' nda Rus Barış kuvvetlerinde komandoların lideridir .\r",
      "\r\n"
     ]
    }
   ],
   "source": [
    "!head tempwikiTR.txt"
   ]
  },
  {
   "cell_type": "code",
   "execution_count": 10,
   "metadata": {},
   "outputs": [
    {
     "data": {
      "text/plain": [
       "['Widzew',\n",
       " 'Łódź',\n",
       " ',',\n",
       " 'Lodz',\n",
       " 'merkezli',\n",
       " ',',\n",
       " 'Polonyalı',\n",
       " 'profesyonel',\n",
       " 'futbol',\n",
       " 'kulübüdür.',\n",
       " '1910',\n",
       " 'yılında',\n",
       " 'kurulduğu',\n",
       " 'semtin',\n",
       " 'adı',\n",
       " 'olan',\n",
       " 'Widzew',\n",
       " 'adıyla',\n",
       " 'kurulmuştur',\n",
       " '.',\n",
       " 'Ekstraklasa',\n",
       " ':',\n",
       " 'Şampiyon',\n",
       " '(',\n",
       " '4',\n",
       " ')',\n",
       " ':',\n",
       " '1981',\n",
       " ',',\n",
       " '1982',\n",
       " ',',\n",
       " '1996',\n",
       " ',',\n",
       " '1997',\n",
       " 'İkinci',\n",
       " '(',\n",
       " '7',\n",
       " ')',\n",
       " ':',\n",
       " '1977',\n",
       " ',',\n",
       " '1979',\n",
       " ',',\n",
       " '1980',\n",
       " ',',\n",
       " '1983',\n",
       " ',',\n",
       " '1984',\n",
       " ',',\n",
       " '1995',\n",
       " ',',\n",
       " '1999',\n",
       " 'Polonya',\n",
       " 'Birinci',\n",
       " 'Ligi',\n",
       " ':',\n",
       " 'Şampiyon',\n",
       " '(',\n",
       " '3',\n",
       " ')',\n",
       " ':',\n",
       " '2006',\n",
       " ',',\n",
       " '2009',\n",
       " ',',\n",
       " '2010',\n",
       " 'Polonya',\n",
       " 'Kupası',\n",
       " ':',\n",
       " 'Şampiyon',\n",
       " '(',\n",
       " '1',\n",
       " ')',\n",
       " ':',\n",
       " '1985',\n",
       " 'Polonya',\n",
       " 'Süper',\n",
       " 'Kupası',\n",
       " ':',\n",
       " 'Şampiyon',\n",
       " '(',\n",
       " '1',\n",
       " ')',\n",
       " ':',\n",
       " '1996',\n",
       " 'Finalist',\n",
       " '(',\n",
       " '1',\n",
       " ')',\n",
       " ':',\n",
       " '1997',\n",
       " 'Polonya',\n",
       " 'Lig',\n",
       " 'Kupası',\n",
       " ':',\n",
       " 'Finalist',\n",
       " '(',\n",
       " '1',\n",
       " ')',\n",
       " ':',\n",
       " '1977',\n",
       " 'UEFA',\n",
       " 'Şampiyonlar',\n",
       " 'Ligi',\n",
       " ':',\n",
       " 'Yarı',\n",
       " 'Final',\n",
       " '(',\n",
       " '1',\n",
       " ')',\n",
       " ':',\n",
       " '1983',\n",
       " 'UEFA',\n",
       " 'Intertoto',\n",
       " 'Kupası',\n",
       " ':',\n",
       " 'Şampiyon',\n",
       " '(',\n",
       " '2',\n",
       " ')',\n",
       " ':',\n",
       " '1976',\n",
       " ',',\n",
       " '1982',\n",
       " '3',\n",
       " 'Ekim',\n",
       " '2014',\n",
       " 'itibariyle']"
      ]
     },
     "execution_count": 10,
     "metadata": {},
     "output_type": "execute_result"
    }
   ],
   "source": [
    "data[0]"
   ]
  },
  {
   "cell_type": "code",
   "execution_count": 12,
   "metadata": {},
   "outputs": [],
   "source": [
    "import sentencepiece as spm"
   ]
  },
  {
   "cell_type": "code",
   "execution_count": 21,
   "metadata": {},
   "outputs": [
    {
     "ename": "AttributeError",
     "evalue": "module 'sentencepiece' has no attribute 'Load'",
     "output_type": "error",
     "traceback": [
      "\u001b[0;31m---------------------------------------------------------------------------\u001b[0m",
      "\u001b[0;31mAttributeError\u001b[0m                            Traceback (most recent call last)",
      "\u001b[0;32m<ipython-input-21-7c77974c0db8>\u001b[0m in \u001b[0;36m<module>\u001b[0;34m\u001b[0m\n\u001b[1;32m      1\u001b[0m \u001b[0mspm\u001b[0m\u001b[0;34m.\u001b[0m\u001b[0mSentencePieceTrainer\u001b[0m\u001b[0;34m.\u001b[0m\u001b[0mTrain\u001b[0m\u001b[0;34m(\u001b[0m\u001b[0;34m'--input=tempwikiTR.txt --model_prefix=m --vocab_size=214'\u001b[0m\u001b[0;34m)\u001b[0m\u001b[0;34m\u001b[0m\u001b[0m\n\u001b[0;32m----> 2\u001b[0;31m \u001b[0mspm\u001b[0m\u001b[0;34m.\u001b[0m\u001b[0mLoad\u001b[0m\u001b[0;34m(\u001b[0m\u001b[0;34m\"m.model\"\u001b[0m\u001b[0;34m)\u001b[0m\u001b[0;34m\u001b[0m\u001b[0m\n\u001b[0m",
      "\u001b[0;31mAttributeError\u001b[0m: module 'sentencepiece' has no attribute 'Load'"
     ]
    }
   ],
   "source": [
    "spm.SentencePieceTrainer.Train('--input=tempwikiTR.txt --model_prefix=m --vocab_size=214')\n",
    "sp = spm.SentencePieceProcessor()\n",
    "spm.Load(\"m.model\")"
   ]
  },
  {
   "cell_type": "code",
   "execution_count": 19,
   "metadata": {},
   "outputs": [
    {
     "data": {
      "text/plain": [
       "[]"
      ]
     },
     "execution_count": 19,
     "metadata": {},
     "output_type": "execute_result"
    }
   ],
   "source": [
    "spm.EncodeAsPieces(' '.join(data[0]))"
   ]
  },
  {
   "cell_type": "code",
   "execution_count": null,
   "metadata": {},
   "outputs": [],
   "source": []
  }
 ],
 "metadata": {
  "kernelspec": {
   "display_name": "Python 3",
   "language": "python",
   "name": "python3"
  },
  "language_info": {
   "codemirror_mode": {
    "name": "ipython",
    "version": 3
   },
   "file_extension": ".py",
   "mimetype": "text/x-python",
   "name": "python",
   "nbconvert_exporter": "python",
   "pygments_lexer": "ipython3",
   "version": "3.6.6"
  }
 },
 "nbformat": 4,
 "nbformat_minor": 2
}
