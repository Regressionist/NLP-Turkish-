{
 "cells": [
  {
   "cell_type": "code",
   "execution_count": 1,
   "metadata": {},
   "outputs": [],
   "source": [
    "import json\n",
    "import ast\n",
    "import sentencepiece as spm"
   ]
  },
  {
   "cell_type": "code",
   "execution_count": 4,
   "metadata": {},
   "outputs": [],
   "source": [
    "count=0\n",
    "data=[]\n",
    "with open('tempwikiTR.txt', 'w') as txtfile:\n",
    "    with open('data/train-00000-of-00010.json') as f:\n",
    "        for line in f:\n",
    "            try:\n",
    "                line=ast.literal_eval(line)\n",
    "                #data.append(line['string_sequence'])\n",
    "                txtfile.write((' '.join(line['string_sequence'])).lower())\n",
    "                txtfile.write('\\n')\n",
    "            except:\n",
    "                continue                    \n",
    "            count=count+1\n",
    "            if (count==100000):\n",
    "                break"
   ]
  },
  {
   "cell_type": "code",
   "execution_count": null,
   "metadata": {},
   "outputs": [],
   "source": [
    "sp = spm.SentencePieceProcessor()\n",
    "spm.SentencePieceTrainer.Train('--input=tempwikiTR.txt --model_prefix=m --vocab_size=2500')"
   ]
  },
  {
   "cell_type": "code",
   "execution_count": null,
   "metadata": {},
   "outputs": [],
   "source": [
    "sp.Load(\"m.model\")"
   ]
  },
  {
   "cell_type": "code",
   "execution_count": null,
   "metadata": {},
   "outputs": [],
   "source": [
    "sp.EncodeAsPieces(\"merhaba benim adım serkan . ahmet evden geliyordu .\")"
   ]
  },
  {
   "cell_type": "code",
   "execution_count": null,
   "metadata": {},
   "outputs": [],
   "source": []
  }
 ],
 "metadata": {
  "kernelspec": {
   "display_name": "Python 3",
   "language": "python",
   "name": "python3"
  },
  "language_info": {
   "codemirror_mode": {
    "name": "ipython",
    "version": 3
   },
   "file_extension": ".py",
   "mimetype": "text/x-python",
   "name": "python",
   "nbconvert_exporter": "python",
   "pygments_lexer": "ipython3",
   "version": "3.6.6"
  }
 },
 "nbformat": 4,
 "nbformat_minor": 2
}
